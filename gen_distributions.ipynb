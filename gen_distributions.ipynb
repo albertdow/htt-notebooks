{
 "cells": [
  {
   "cell_type": "markdown",
   "metadata": {},
   "source": [
    "# GEN level distributions"
   ]
  },
  {
   "cell_type": "code",
   "execution_count": null,
   "metadata": {},
   "outputs": [],
   "source": [
    "%load_ext autoreload"
   ]
  },
  {
   "cell_type": "code",
   "execution_count": 2,
   "metadata": {},
   "outputs": [],
   "source": [
    "%autoreload 2"
   ]
  },
  {
   "cell_type": "code",
   "execution_count": 1,
   "metadata": {},
   "outputs": [],
   "source": [
    "import uproot\n",
    "import matplotlib.pyplot as plt\n",
    "import numpy as np\n",
    "import pandas as pd\n",
    "\n",
    "#test = \"/vols/cms/akd116/Offline/output/SM/2019/Mar4_2016_gen/GluGluToHToTauTau_M-125-nospinner_mt_2016.root\"\n",
    "test = \"/vols/build/cms/akd116/newest/run/CMSSW_8_0_25/src/UserCode/ICHiggsTauTau/Analysis/HiggsTauTauRun2/output/VBFHToTauTauUncorrelatedDecay_Filtered_2018_tt_0.root\"\n",
    "#test = \"/vols/cms/akd116/Offline/output/SM/2020/Apr26_2018_gen_cpdecays/VBFHToTauTauUncorrelatedDecay_Filtered_tt_2018.root\"\n",
    "\n",
    "f = uproot.open(test)[\"gen_ntuple\"]\n",
    "f.keys()\n",
    "df = f.pandas.df([\n",
    "    \"cp_channel\",\n",
    "    \"aco_angle_1\",\n",
    "    \"aco_angle_2\",\n",
    "    \"aco_angle_3\",\n",
    "    \"aco_angle_4\",\n",
    "    \"wt_cp_sm\",\n",
    "    \"wt_cp_ps\",\n",
    "    \"wt_cp_mm\",\n",
    "    \"count_taus\",\n",
    "],namedecode=\"utf-8\")\n",
    "\n",
    "#df = pd.DataFrame()\n",
    "#for file_number in np.linspace(0, 1, 1):\n",
    "#    #test = f\"/vols/cms/akd116/Offline/output/SM/2020/Apr26_2018_gen_cpdecays/VBFHToTauTauUncorrelatedDecay_Filtered_2018_tt_{int(file_number)}.root\"\n",
    "#    f = uproot.open(test)[\"gen_ntuple\"]\n",
    "#    f.keys()\n",
    "#    df = pd.concat([df, f.pandas.df([\n",
    "#        \"cp_channel\",\n",
    "#        \"aco_angle_1\",\n",
    "#        \"aco_angle_2\",\n",
    "#        \"aco_angle_3\",\n",
    "#        \"aco_angle_4\",\n",
    "#        \"wt_cp_sm\",\n",
    "#        \"wt_cp_ps\",\n",
    "#        \"wt_cp_mm\",\n",
    "#        \"genpt_2\",\n",
    "#        \"cp_sign_1\",\n",
    "#    ],namedecode=\"utf-8\")])\n",
    "#df.set_index([\"cp_channel\"], inplace=True)"
   ]
  },
  {
   "cell_type": "code",
   "execution_count": 4,
   "metadata": {},
   "outputs": [],
   "source": [
    "# options\n",
    "import dftools\n",
    "from plotting import var_kw\n",
    "import itertools\n",
    "cp_channel = 2\n",
    "plot_var = \"aco_angle_1\"\n",
    "weights = [\"wt_cp_sm\", \"wt_cp_ps\",]# \"wt_cp_mm\"]\n",
    "legend_items = [\n",
    "    r\"$\\mathrm{SM}\\ (\\phi_{\\tau}=0)$\",\n",
    "    r\"$\\mathrm{PS}\\ (\\phi_{\\tau}=\\pi/2)$\",\n",
    "    r\"$\\mathrm{MM}\\ (\\phi_{\\tau}=\\pi/4)$\",\n",
    "]"
   ]
  },
  {
   "cell_type": "code",
   "execution_count": 5,
   "metadata": {},
   "outputs": [
    {
     "name": "stdout",
     "output_type": "stream",
     "text": [
      "The history saving thread hit an unexpected error (OperationalError('disk I/O error')).History will not be written to the database.\n"
     ]
    }
   ],
   "source": [
    "plt.style.use('cms')\n",
    "prop_cycle = plt.rcParams['axes.prop_cycle']\n",
    "colors = itertools.cycle(prop_cycle.by_key()['color'])\n",
    "\n",
    "fig, ax = plt.subplots(figsize=(2.9, 2.6), dpi=200,)\n",
    "\n",
    "dftools.draw.cms_label(ax, \"Simulation\", lumi=59.7)\n",
    "\n",
    "bin_edges = np.linspace(0, 2.*np.pi, endpoint=True, num=51)\n",
    "bin_low_edge = bin_edges[:-1]\n",
    "for weight in weights:\n",
    "    sum_w, _ = np.histogram(\n",
    "        df.loc[df.eval(f\"cp_channel=={cp_channel}\"), plot_var],\n",
    "        bins=bin_edges,\n",
    "        weights=df.loc[df.eval(f\"cp_channel=={cp_channel}\"), weight],\n",
    "    )\n",
    "    sum_w_total = sum_w.sum()\n",
    "    sum_w /= sum_w_total\n",
    "    sum_ww, _ = np.histogram(\n",
    "        df.loc[df.eval(f\"cp_channel=={cp_channel}\"), plot_var],\n",
    "        bins=bin_edges,\n",
    "        weights=(df.loc[df.eval(f\"cp_channel=={cp_channel}\"), weight])**2,\n",
    "    )\n",
    "    sum_ww /= (sum_w_total)**2\n",
    "    color=next(colors),\n",
    "    ax.hist(\n",
    "        bin_low_edge,\n",
    "        bins=bin_edges,\n",
    "        histtype='step',\n",
    "        weights=sum_w,\n",
    "        color=color,\n",
    "    )\n",
    "    up = sum_w + np.sqrt(sum_ww)\n",
    "    down = sum_w - np.sqrt(sum_ww)\n",
    "    ax.fill_between(\n",
    "        bin_edges,\n",
    "        list(up)+[up[-1]],\n",
    "        list(down)+[down[-1]],\n",
    "        step='post',\n",
    "        alpha=0.2,\n",
    "        color=color,\n",
    "    )\n",
    "    \n",
    "ax.legend(\n",
    "    legend_items,\n",
    "    loc=3, \n",
    "    labelspacing=0.2, \n",
    "    fontsize=9.,\n",
    "    framealpha=0.8,\n",
    ")\n",
    "\n",
    "ax.set_xlim(0, 2.*np.pi)\n",
    "ax.set_ylabel(\"Normalised events\")\n",
    "try:\n",
    "    ax.set_xlabel(var_kw[plot_var])\n",
    "except KeyError:\n",
    "    print(f\"{plot_var} not defined in var_kw\")\n",
    "    ax.set_xlabel(plot_var.replace(\"_\",\" \"))\n",
    "ax.set_xticks([0, np.pi/2, np.pi, 1.5*np.pi, 2.*np.pi])\n",
    "ax.set_xticklabels([0, r\"$\\pi/2$\", r\"$\\pi$\", r\"$3\\pi/2$\", r\"$2\\pi$\"])\n",
    "\n",
    "fig.savefig(f\"plots/vbf_gen_{plot_var}_cp{cp_channel}.pdf\", bbox_inches='tight')"
   ]
  },
  {
   "cell_type": "code",
   "execution_count": null,
   "metadata": {},
   "outputs": [],
   "source": []
  }
 ],
 "metadata": {
  "kernelspec": {
   "display_name": "Python 3",
   "language": "python",
   "name": "python3"
  },
  "language_info": {
   "codemirror_mode": {
    "name": "ipython",
    "version": 3
   },
   "file_extension": ".py",
   "mimetype": "text/x-python",
   "name": "python",
   "nbconvert_exporter": "python",
   "pygments_lexer": "ipython3",
   "version": "3.7.3"
  }
 },
 "nbformat": 4,
 "nbformat_minor": 4
}
